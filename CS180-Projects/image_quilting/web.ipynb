{
 "cells": [
  {
   "cell_type": "markdown",
   "metadata": {},
   "source": [
    "<div style=\"text-align: center;\">\n",
    "    <h1 style=\"font-style: italic;\">Image Quilting</h1>\n",
    "</div>\n",
    "<div style=\"display: flex; justify-content: space-around; align-items: center;\">\n",
    "    <div style=\"text-align: center;\">\n",
    "        <img src=\"./media/intro.jpg\" alt=\"Image 1\" style=\"width: 600px;\">\n",
    "    </div>\n",
    "</div>"
   ]
  },
  {
   "cell_type": "markdown",
   "metadata": {},
   "source": [
    "## ***Overview***"
   ]
  },
  {
   "cell_type": "markdown",
   "metadata": {},
   "source": [
    "&emsp;&emsp;In this project, I implement an image quilting algorithm for texture synthesis and transfer, as presented in the 2001 SIGGRAPH paper by Efros and Freeman."
   ]
  },
  {
   "cell_type": "markdown",
   "metadata": {},
   "source": [
    "## ***Texture Quilting***"
   ]
  },
  {
   "cell_type": "markdown",
   "metadata": {},
   "source": [
    "&emsp;&emsp;The goal of texture quilting is to fill a larger image using the texture from a small sample image in a way that appears natural to the human eye. Below, the results are shown along with explanations of each method.\n",
    "\n",
    "<br>\n",
    "<div style=\"display: flex; justify-content: space-around; align-items: flex-end; gap: 20px;\">\n",
    "    <div style=\"text-align: center;\">\n",
    "        <img src=\"./media/bricks_small.jpg\" alt=\"Image 1\" style=\"height: 120px;\">\n",
    "        <p style=\"font-weight: bold; margin-top: 10px;\">Sample</p>\n",
    "    </div>\n",
    "    <div style=\"text-align: center;\">\n",
    "        <img src=\"./media/random_sampled.png\" alt=\"Image 2\" style=\"height: 240px;\">\n",
    "        <p style=\"font-weight: bold; margin-top: 10px;\">Random Sampled Texture</p>\n",
    "    </div>\n",
    "    <div style=\"text-align: center;\">\n",
    "        <img src=\"./media/overlap.png\" alt=\"Image 3\" style=\"height: 240px;\">\n",
    "        <p style=\"font-weight: bold; margin-top: 10px;\">Overlapping Patches</p>\n",
    "    </div>\n",
    "    <div style=\"text-align: center;\">\n",
    "        <img src=\"./media/seam1.png\" alt=\"Image 4\" style=\"height: 240px;\">\n",
    "        <p style=\"font-weight: bold; margin-top: 10px;\">Seam Finding</p>\n",
    "    </div>\n",
    "</div>"
   ]
  },
  {
   "cell_type": "markdown",
   "metadata": {},
   "source": [
    "### ***Randomly Sampled Texture***"
   ]
  },
  {
   "cell_type": "markdown",
   "metadata": {},
   "source": [
    "&emsp;&emsp;This technique fills the target image grid-by-grid, but the grids are significantly smaller than the size of the texture image. Each grid is randomly filled with a patch that is uniformly sampled from the texture image. We randomly sample square patches of size `patch_size` from a sample in order to create an output image of size `out_size`. Start from the upper-left corner, and tile samples until the image are full.\n",
    "\n",
    "<div style=\"display: flex; justify-content: space-around; align-items: flex-end; gap: 10px;\">\n",
    "    <div style=\"text-align: center;\">\n",
    "        <img src=\"./media/random_sampled.png\" alt=\"Image 1\" style=\"height: 240px;\">\n",
    "        <p style=\"font-weight: bold; margin-top: 5px;\">patch size = 55, output size = 331</p>\n",
    "    </div>\n",
    "</div>"
   ]
  },
  {
   "cell_type": "markdown",
   "metadata": {},
   "source": [
    "### ***Ovrelapping Patches***"
   ]
  },
  {
   "cell_type": "markdown",
   "metadata": {},
   "source": [
    "&emsp;&emsp;You could observe that using random patches alone does not address the discontinuities along the borders of each grid from the last part. To minimize these discontinuities, a better approach is to fill each grid with patches that are similar to the neighboring grids already filled along the borders. We could realize this using overlapping patches. When a grid is being filled, the pixels in the texture image just outside the candidate patches are compared with those in the neighboring filled grids using the sum of squared differences (SSD). Patches with lower error are preferred for filling, ensuring a smoother transition between the grids.\n",
    "\n",
    "<div style=\"display: flex; justify-content: space-around; align-items: flex-end; gap: 10px;\">\n",
    "    <div style=\"text-align: center;\">\n",
    "        <img src=\"./media/overlap.png\" alt=\"Image 1\" style=\"height: 240px;\">\n",
    "        <p style=\"font-weight: bold; margin-top: 5px;\">patch size = 35, overlap size = 9, tolerance = 1</p>\n",
    "    </div>\n",
    "</div>"
   ]
  },
  {
   "cell_type": "markdown",
   "metadata": {},
   "source": [
    "### ***Seam Finding***"
   ]
  },
  {
   "cell_type": "markdown",
   "metadata": {},
   "source": [
    "&emsp;&emsp;However, using patches with similar borders still leaves some noticeable discontinuities. To improve the use of overlapping patches, patches are pasted into the target image with their borders masked in a way that ensures smooth transitions from the already filled grids to the new patch. That is the seam finding technique.\n",
    "\n",
    "<div style=\"display: flex; justify-content: space-around; align-items: flex-end; gap: 10px;\">\n",
    "    <div style=\"text-align: center;\">\n",
    "        <img src=\"./media/seam1.png\" alt=\"Image 1\" style=\"height: 240px;\">\n",
    "        <p style=\"font-weight: bold; margin-top: 5px;\">patch size = 35, overlap size = 9, tolerance = 1</p>\n",
    "    </div>\n",
    "</div>\n",
    "\n",
    "&emsp;&emsp;The technique of seam finding is that, there could be a way to cut and stitch two overlapping patches such that the transition between the two patches is seamless, even though they  may not perfectly align. One approach to find this cut is to identify a path in the overlapping region where pixel value differences are minimal. If the pixel value differences along the best such path are small, it suggests that the two patches are aligned along that path. Assuming the textures are repetitive, the texture content on either side of the path should also repeat, making the transition less noticeable if the patches are stitched along this path.\n",
    "\n",
    "&emsp;&emsp;Here is the illustration of finding such path:\n",
    "<div style=\"display: flex; justify-content: space-around; align-items: flex-end; gap: 10px;\">\n",
    "    <div style=\"text-align: center;\">\n",
    "        <img src=\"./media/seam_mask.png\" alt=\"Image 1\" style=\"height: 180px;\">\n",
    "    </div>\n",
    "</div>\n",
    "\n",
    "&emsp;&emsp;After applying the mask, we got the seamless patch:\n",
    "<div style=\"display: flex; justify-content: space-around; align-items: flex-end; gap: 10px;\">\n",
    "    <div style=\"text-align: center;\">\n",
    "        <img src=\"./media/patch.jpg\" alt=\"Image 1\" style=\"height: 120px;\">\n",
    "    </div>\n",
    "</div>\n",
    "\n",
    "&emsp;&emsp;Below are four additional texture quilting results where the overlapping with boundary cut technique is applied to create textures with double the size. The source texture images are displayed next to their corresponding quilted images.\n",
    "\n",
    "<div style=\"display: flex; justify-content: space-around; align-items: flex-end; gap: 10px;\">\n",
    "    <!-- First Group -->\n",
    "    <div style=\"text-align: center;\">\n",
    "        <div style=\"display: flex; justify-content: space-around; align-items: flex-end; gap: 2px;\">\n",
    "            <div style=\"text-align: center;\">\n",
    "                <img src=\"./media/white_small.jpg\" alt=\"Image 1\" style=\"height: 120px;\">\n",
    "            </div>\n",
    "            <div style=\"text-align: center;\">\n",
    "                <img src=\"./media/seam2.png\" alt=\"Image 2\" style=\"height: 240px;\">\n",
    "            </div>\n",
    "        </div>\n",
    "        <p style=\"text-align: center;\">Batt with patch size = 15, overlap size = 3, tolerance = 1</p>\n",
    "    </div>\n",
    "    <div style=\"text-align: center;\">\n",
    "        <div style=\"display: flex; justify-content: space-around; align-items: flex-end; gap: 2px;\">\n",
    "            <div style=\"text-align: center;\">\n",
    "                <img src=\"./media/text_small.jpg\" alt=\"Image 1\" style=\"height: 120px;\">\n",
    "            </div>\n",
    "            <div style=\"text-align: center;\">\n",
    "                <img src=\"./media/seam3.png\" alt=\"Image 2\" style=\"height: 240px;\">\n",
    "            </div>\n",
    "        </div>\n",
    "        <p style=\"text-align: center;\">Text with patch size = 25, overlap size = 5, tolerance = 1</p>\n",
    "    </div>\n",
    "</div>\n"
   ]
  },
  {
   "cell_type": "markdown",
   "metadata": {},
   "source": [
    "## ***Texture Transfer***"
   ]
  },
  {
   "cell_type": "markdown",
   "metadata": {},
   "source": [
    "&emsp;&emsp;The texture quilting technique of overlapping with boundary cut can be extended to perform texture transfer, which aims to reconstruct a target image by using textures from the texture image to create a version of the target image embedded with the texture.\n",
    "\n",
    "&emsp;&emsp;The procedure used for texture transfer is similar to the seam finding technique used for texture quilting. The key difference is that the cost image is calculated as the weighted average of the SSD of the sample image and the SSD of the guidance image. Here when the ratio of sample increases, the result would look more likely to the sample texture, while decreasing the ratio would result in an output like the guidance image.\n",
    "\n",
    "<br>\n",
    "<div>\n",
    "    <div style=\"display: flex; justify-content: space-around; align-items: flex-start; gap: 5px;\">\n",
    "        <div style=\"text-align: center; width: 200px; display: flex; flex-direction: column; align-items: center;\">\n",
    "            <p style=\"margin-bottom: 10px; min-height: 40px; text-align: center;\">Picasso Drawing</p>\n",
    "            <img src=\"./media/sketch.png\" alt=\"Image 1\" style=\"height: 280px;\">\n",
    "        </div>\n",
    "        <div style=\"text-align: center; width: 200px; display: flex; flex-direction: column; align-items: center;\">\n",
    "            <p style=\"margin-bottom: 10px; min-height: 40px; text-align: center;\">Feynman</p>\n",
    "            <img src=\"./media/feynman.png\" alt=\"Image 2\" style=\"height: 280px;\">\n",
    "        </div>\n",
    "        <div style=\"text-align: center; width: 200px; display: flex; flex-direction: column; align-items: center;\">\n",
    "            <p style=\"margin-bottom: 10px; min-height: 40px; text-align: center;\">Feynman in Picasso Style</p>\n",
    "            <img src=\"./media/transfer1.png\" alt=\"Image 3\" style=\"height: 280px;\">\n",
    "        </div>\n",
    "    </div>\n",
    "    <br>\n",
    "    <div style=\"text-align: center;\">\n",
    "        <p style=\"margin-bottom: 10px; min-height: 40px; text-align: center;\">patch size = 27, overlap size = 5, tolerance = 1, alpha = 0.9</p>\n",
    "    </div>\n",
    "</div>\n",
    "\n",
    "<br>\n",
    "<div>\n",
    "    <div style=\"display: flex; justify-content: space-around; align-items: flex-start; gap: 5px;\">\n",
    "        <div style=\"text-align: center; width: 200px; display: flex; flex-direction: column; align-items: center;\">\n",
    "            <p style=\"margin-bottom: 10px; min-height: 40px; text-align: center;\">An Oil Painting of Oranges</p>\n",
    "            <img src=\"./media/orange_texture.jpg\" alt=\"Image 1\" style=\"height: 160px;\">\n",
    "        </div>\n",
    "        <div style=\"text-align: center; width: 200px; display: flex; flex-direction: column; align-items: center;\">\n",
    "            <p style=\"margin-bottom: 10px; min-height: 40px; text-align: center;\">A Photo of Oranges</p>\n",
    "            <img src=\"./media/orange.jpg\" alt=\"Image 2\" style=\"height: 160px;\">\n",
    "        </div>\n",
    "        <div style=\"text-align: center; width: 200px; display: flex; flex-direction: column; align-items: center;\">\n",
    "            <p style=\"margin-bottom: 10px; min-height: 40px; text-align: center;\">Transferred Painting</p>\n",
    "            <img src=\"./media/transfer2.png\" alt=\"Image 3\" style=\"height: 160px;\">\n",
    "        </div>\n",
    "    </div>\n",
    "    <br>\n",
    "    <div style=\"text-align: center;\">\n",
    "        <p style=\"margin-bottom: 10px; min-height: 40px; text-align: center;\">patch size = 13, overlap size = 8, tolerance = 1, alpha = 0.3</p>\n",
    "    </div>\n",
    "</div>"
   ]
  },
  {
   "cell_type": "markdown",
   "metadata": {},
   "source": [
    "## ***Bells & Whistles***"
   ]
  },
  {
   "cell_type": "markdown",
   "metadata": {},
   "source": [
    "### ***Image Blending***"
   ]
  },
  {
   "cell_type": "markdown",
   "metadata": {},
   "source": [
    "&emsp;&emsp;First, I transfer the face into toast texture.\n",
    "\n",
    "<div>\n",
    "    <div style=\"display: flex; justify-content: space-around; align-items: flex-start; gap: 5px;\">\n",
    "        <div style=\"text-align: center; width: 200px; display: flex; flex-direction: column; align-items: center;\">\n",
    "            <p style=\"margin-bottom: 10px; min-height: 40px; text-align: center;\">Toast</p>\n",
    "            <img src=\"./media/toast.jpg\" alt=\"Image 1\" style=\"height: 220px;\">\n",
    "        </div>\n",
    "        <div style=\"text-align: center; width: 200px; display: flex; flex-direction: column; align-items: center;\">\n",
    "            <p style=\"margin-bottom: 10px; min-height: 40px; text-align: center;\">Audrey Hepburn</p>\n",
    "            <img src=\"./media/hepburn.jpg\" alt=\"Image 2\" style=\"height: 220px;\">\n",
    "        </div>\n",
    "        <div style=\"text-align: center; width: 200px; display: flex; flex-direction: column; align-items: center;\">\n",
    "            <p style=\"margin-bottom: 10px; min-height: 40px; text-align: center;\">Transferred Face</p>\n",
    "            <img src=\"./media/transfer_blend.png\" alt=\"Image 3\" style=\"height: 220px;\">\n",
    "        </div>\n",
    "    </div>\n",
    "    <br>\n",
    "    <div style=\"text-align: center;\">\n",
    "        <p style=\"margin-bottom: 10px; min-height: 40px; text-align: center;\">patch size = 25, overlap size = 10, tolerance = 1, alpha = 0.7</p>\n",
    "    </div>\n",
    "</div>\n",
    "\n",
    "&emsp;&emsp;Then I cut the output and resize them into the size of toast to create the appropriate mask.\n",
    "\n",
    "<div style=\"display: flex; justify-content: space-around; align-items: flex-end; gap: 10px;\">\n",
    "    <div style=\"text-align: center;\">\n",
    "        <img src=\"./media/blend_mask.png\" alt=\"Image 1\" style=\"height: 180px;\">\n",
    "    </div>\n",
    "</div>\n",
    "\n",
    "&emsp;&emsp;Finally I use the Laplacian stacks to create the face-in-toast image.\n",
    "\n",
    "<div style=\"display: flex; justify-content: space-around; align-items: flex-end; gap: 10px;\">\n",
    "    <div style=\"text-align: center;\">\n",
    "        <img src=\"./media/blend.png\" alt=\"Image 1\" style=\"height: 240px;\">\n",
    "    </div>\n",
    "</div>"
   ]
  }
 ],
 "metadata": {
  "kernelspec": {
   "display_name": "Python 3 (ipykernel)",
   "language": "python",
   "name": "python3"
  },
  "language_info": {
   "codemirror_mode": {
    "name": "ipython",
    "version": 3
   },
   "file_extension": ".py",
   "mimetype": "text/x-python",
   "name": "python",
   "nbconvert_exporter": "python",
   "pygments_lexer": "ipython3",
   "version": "3.9.13"
  }
 },
 "nbformat": 4,
 "nbformat_minor": 2
}
